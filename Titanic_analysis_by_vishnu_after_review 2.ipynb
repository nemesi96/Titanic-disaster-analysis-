{
 "cells": [
  {
   "cell_type": "markdown",
   "metadata": {},
   "source": [
    "<h1> ANALYSIS ON TITANIC ACCIDENT <h1>"
   ]
  },
  {
   "cell_type": "markdown",
   "metadata": {},
   "source": [
    "# INDRODUCTION: \n",
    "Titanic was a British passenger liner that sank in the North Atlantic Ocean in the early morning hours of 15 April 1912, after it collided with an iceberg during her maiden voyage from Southampton to New York City with two other boarding ports, Cherbourg and Queenstown .The ship has three classes named Class 1-3.Huge number of passengers,families, crew members were sailing on the ship, Some survived and some didn't after the accident.\n",
    "\n",
    "### Questions to explore:\n",
    "1.How many passengers survived the Titanic ? \n",
    "\n",
    "2.Which gender survived with a higher count, Male or Female?\n",
    "\n",
    "3.Which class had the most survivors?\n",
    "\n",
    "4.From which port did survived passengers embark from?\n",
    "\n",
    "5.Which age group survived most?\n",
    "\n",
    "6.How many single passengers survived?\n",
    "\n",
    "7.How many passengers along with atleast one of their family members survived?\n",
    "\n",
    "8.How to find the unsurvived family member?\n",
    "\n",
    "9.How many families survived?"
   ]
  },
  {
   "cell_type": "code",
   "execution_count": 48,
   "metadata": {
    "collapsed": true
   },
   "outputs": [],
   "source": [
    "#importing files and converting into data frames\n",
    "import matplotlib.pyplot as plt\n",
    "import numpy as np\n",
    "import pandas as pd\n",
    "import seaborn as sns\n",
    "\n",
    "file_name = pd.read_csv('titanic_data.csv')\n",
    "titanic_df=pd.DataFrame(file_name)"
   ]
  },
  {
   "cell_type": "markdown",
   "metadata": {},
   "source": [
    "# Given Data: "
   ]
  },
  {
   "cell_type": "code",
   "execution_count": 49,
   "metadata": {},
   "outputs": [
    {
     "data": {
      "text/html": [
       "<div>\n",
       "<style>\n",
       "    .dataframe thead tr:only-child th {\n",
       "        text-align: right;\n",
       "    }\n",
       "\n",
       "    .dataframe thead th {\n",
       "        text-align: left;\n",
       "    }\n",
       "\n",
       "    .dataframe tbody tr th {\n",
       "        vertical-align: top;\n",
       "    }\n",
       "</style>\n",
       "<table border=\"1\" class=\"dataframe\">\n",
       "  <thead>\n",
       "    <tr style=\"text-align: right;\">\n",
       "      <th></th>\n",
       "      <th>PassengerId</th>\n",
       "      <th>Survived</th>\n",
       "      <th>Pclass</th>\n",
       "      <th>Name</th>\n",
       "      <th>Sex</th>\n",
       "      <th>Age</th>\n",
       "      <th>SibSp</th>\n",
       "      <th>Parch</th>\n",
       "      <th>Ticket</th>\n",
       "      <th>Fare</th>\n",
       "      <th>Cabin</th>\n",
       "      <th>Embarked</th>\n",
       "    </tr>\n",
       "  </thead>\n",
       "  <tbody>\n",
       "    <tr>\n",
       "      <th>0</th>\n",
       "      <td>1</td>\n",
       "      <td>0</td>\n",
       "      <td>3</td>\n",
       "      <td>Braund, Mr. Owen Harris</td>\n",
       "      <td>male</td>\n",
       "      <td>22.0</td>\n",
       "      <td>1</td>\n",
       "      <td>0</td>\n",
       "      <td>A/5 21171</td>\n",
       "      <td>7.2500</td>\n",
       "      <td>NaN</td>\n",
       "      <td>S</td>\n",
       "    </tr>\n",
       "    <tr>\n",
       "      <th>1</th>\n",
       "      <td>2</td>\n",
       "      <td>1</td>\n",
       "      <td>1</td>\n",
       "      <td>Cumings, Mrs. John Bradley (Florence Briggs Th...</td>\n",
       "      <td>female</td>\n",
       "      <td>38.0</td>\n",
       "      <td>1</td>\n",
       "      <td>0</td>\n",
       "      <td>PC 17599</td>\n",
       "      <td>71.2833</td>\n",
       "      <td>C85</td>\n",
       "      <td>C</td>\n",
       "    </tr>\n",
       "    <tr>\n",
       "      <th>2</th>\n",
       "      <td>3</td>\n",
       "      <td>1</td>\n",
       "      <td>3</td>\n",
       "      <td>Heikkinen, Miss. Laina</td>\n",
       "      <td>female</td>\n",
       "      <td>26.0</td>\n",
       "      <td>0</td>\n",
       "      <td>0</td>\n",
       "      <td>STON/O2. 3101282</td>\n",
       "      <td>7.9250</td>\n",
       "      <td>NaN</td>\n",
       "      <td>S</td>\n",
       "    </tr>\n",
       "    <tr>\n",
       "      <th>3</th>\n",
       "      <td>4</td>\n",
       "      <td>1</td>\n",
       "      <td>1</td>\n",
       "      <td>Futrelle, Mrs. Jacques Heath (Lily May Peel)</td>\n",
       "      <td>female</td>\n",
       "      <td>35.0</td>\n",
       "      <td>1</td>\n",
       "      <td>0</td>\n",
       "      <td>113803</td>\n",
       "      <td>53.1000</td>\n",
       "      <td>C123</td>\n",
       "      <td>S</td>\n",
       "    </tr>\n",
       "    <tr>\n",
       "      <th>4</th>\n",
       "      <td>5</td>\n",
       "      <td>0</td>\n",
       "      <td>3</td>\n",
       "      <td>Allen, Mr. William Henry</td>\n",
       "      <td>male</td>\n",
       "      <td>35.0</td>\n",
       "      <td>0</td>\n",
       "      <td>0</td>\n",
       "      <td>373450</td>\n",
       "      <td>8.0500</td>\n",
       "      <td>NaN</td>\n",
       "      <td>S</td>\n",
       "    </tr>\n",
       "    <tr>\n",
       "      <th>5</th>\n",
       "      <td>6</td>\n",
       "      <td>0</td>\n",
       "      <td>3</td>\n",
       "      <td>Moran, Mr. James</td>\n",
       "      <td>male</td>\n",
       "      <td>NaN</td>\n",
       "      <td>0</td>\n",
       "      <td>0</td>\n",
       "      <td>330877</td>\n",
       "      <td>8.4583</td>\n",
       "      <td>NaN</td>\n",
       "      <td>Q</td>\n",
       "    </tr>\n",
       "    <tr>\n",
       "      <th>6</th>\n",
       "      <td>7</td>\n",
       "      <td>0</td>\n",
       "      <td>1</td>\n",
       "      <td>McCarthy, Mr. Timothy J</td>\n",
       "      <td>male</td>\n",
       "      <td>54.0</td>\n",
       "      <td>0</td>\n",
       "      <td>0</td>\n",
       "      <td>17463</td>\n",
       "      <td>51.8625</td>\n",
       "      <td>E46</td>\n",
       "      <td>S</td>\n",
       "    </tr>\n",
       "  </tbody>\n",
       "</table>\n",
       "</div>"
      ],
      "text/plain": [
       "   PassengerId  Survived  Pclass  \\\n",
       "0            1         0       3   \n",
       "1            2         1       1   \n",
       "2            3         1       3   \n",
       "3            4         1       1   \n",
       "4            5         0       3   \n",
       "5            6         0       3   \n",
       "6            7         0       1   \n",
       "\n",
       "                                                Name     Sex   Age  SibSp  \\\n",
       "0                            Braund, Mr. Owen Harris    male  22.0      1   \n",
       "1  Cumings, Mrs. John Bradley (Florence Briggs Th...  female  38.0      1   \n",
       "2                             Heikkinen, Miss. Laina  female  26.0      0   \n",
       "3       Futrelle, Mrs. Jacques Heath (Lily May Peel)  female  35.0      1   \n",
       "4                           Allen, Mr. William Henry    male  35.0      0   \n",
       "5                                   Moran, Mr. James    male   NaN      0   \n",
       "6                            McCarthy, Mr. Timothy J    male  54.0      0   \n",
       "\n",
       "   Parch            Ticket     Fare Cabin Embarked  \n",
       "0      0         A/5 21171   7.2500   NaN        S  \n",
       "1      0          PC 17599  71.2833   C85        C  \n",
       "2      0  STON/O2. 3101282   7.9250   NaN        S  \n",
       "3      0            113803  53.1000  C123        S  \n",
       "4      0            373450   8.0500   NaN        S  \n",
       "5      0            330877   8.4583   NaN        Q  \n",
       "6      0             17463  51.8625   E46        S  "
      ]
     },
     "execution_count": 49,
     "metadata": {},
     "output_type": "execute_result"
    }
   ],
   "source": [
    "titanic_df.head(7)"
   ]
  },
  {
   "cell_type": "markdown",
   "metadata": {},
   "source": [
    "### DATA DESCRIPTION\n",
    "\n",
    "\n",
    "<b>1.DATA DICTIONARY</b>\n",
    "\n",
    "survival-Survival\t\n",
    "pclass-Ticket class\t\n",
    "sex-Sex\t\n",
    "Age-Age in years\t\n",
    "sibsp-# of siblings / spouses aboard the Titanic\t\n",
    "parch-# of parents / children aboard the Titanic\t\n",
    "ticket-Ticket number\t\n",
    "fare-Passenger fare\t\n",
    "cabin-Cabin number\t\n",
    "embarked-Port of Embarkation\n",
    "\n",
    "<b>2.KEY</b>\n",
    "\n",
    "0 = No, 1 = Yes\n",
    "\n",
    "1 = 1st, 2 = 2nd, 3 = 3rd\n",
    "\n",
    "C = Cherbourg, Q = Queenstown, S = Southampton\n"
   ]
  },
  {
   "cell_type": "code",
   "execution_count": 50,
   "metadata": {
    "scrolled": false
   },
   "outputs": [
    {
     "data": {
      "text/html": [
       "<div>\n",
       "<style>\n",
       "    .dataframe thead tr:only-child th {\n",
       "        text-align: right;\n",
       "    }\n",
       "\n",
       "    .dataframe thead th {\n",
       "        text-align: left;\n",
       "    }\n",
       "\n",
       "    .dataframe tbody tr th {\n",
       "        vertical-align: top;\n",
       "    }\n",
       "</style>\n",
       "<table border=\"1\" class=\"dataframe\">\n",
       "  <thead>\n",
       "    <tr style=\"text-align: right;\">\n",
       "      <th></th>\n",
       "      <th>PassengerId</th>\n",
       "      <th>Survived</th>\n",
       "      <th>Pclass</th>\n",
       "      <th>Age</th>\n",
       "      <th>SibSp</th>\n",
       "      <th>Parch</th>\n",
       "      <th>Fare</th>\n",
       "    </tr>\n",
       "  </thead>\n",
       "  <tbody>\n",
       "    <tr>\n",
       "      <th>count</th>\n",
       "      <td>891.000000</td>\n",
       "      <td>891.000000</td>\n",
       "      <td>891.000000</td>\n",
       "      <td>714.000000</td>\n",
       "      <td>891.000000</td>\n",
       "      <td>891.000000</td>\n",
       "      <td>891.000000</td>\n",
       "    </tr>\n",
       "    <tr>\n",
       "      <th>mean</th>\n",
       "      <td>446.000000</td>\n",
       "      <td>0.383838</td>\n",
       "      <td>2.308642</td>\n",
       "      <td>29.699118</td>\n",
       "      <td>0.523008</td>\n",
       "      <td>0.381594</td>\n",
       "      <td>32.204208</td>\n",
       "    </tr>\n",
       "    <tr>\n",
       "      <th>std</th>\n",
       "      <td>257.353842</td>\n",
       "      <td>0.486592</td>\n",
       "      <td>0.836071</td>\n",
       "      <td>14.526497</td>\n",
       "      <td>1.102743</td>\n",
       "      <td>0.806057</td>\n",
       "      <td>49.693429</td>\n",
       "    </tr>\n",
       "    <tr>\n",
       "      <th>min</th>\n",
       "      <td>1.000000</td>\n",
       "      <td>0.000000</td>\n",
       "      <td>1.000000</td>\n",
       "      <td>0.420000</td>\n",
       "      <td>0.000000</td>\n",
       "      <td>0.000000</td>\n",
       "      <td>0.000000</td>\n",
       "    </tr>\n",
       "    <tr>\n",
       "      <th>25%</th>\n",
       "      <td>223.500000</td>\n",
       "      <td>0.000000</td>\n",
       "      <td>2.000000</td>\n",
       "      <td>20.125000</td>\n",
       "      <td>0.000000</td>\n",
       "      <td>0.000000</td>\n",
       "      <td>7.910400</td>\n",
       "    </tr>\n",
       "    <tr>\n",
       "      <th>50%</th>\n",
       "      <td>446.000000</td>\n",
       "      <td>0.000000</td>\n",
       "      <td>3.000000</td>\n",
       "      <td>28.000000</td>\n",
       "      <td>0.000000</td>\n",
       "      <td>0.000000</td>\n",
       "      <td>14.454200</td>\n",
       "    </tr>\n",
       "    <tr>\n",
       "      <th>75%</th>\n",
       "      <td>668.500000</td>\n",
       "      <td>1.000000</td>\n",
       "      <td>3.000000</td>\n",
       "      <td>38.000000</td>\n",
       "      <td>1.000000</td>\n",
       "      <td>0.000000</td>\n",
       "      <td>31.000000</td>\n",
       "    </tr>\n",
       "    <tr>\n",
       "      <th>max</th>\n",
       "      <td>891.000000</td>\n",
       "      <td>1.000000</td>\n",
       "      <td>3.000000</td>\n",
       "      <td>80.000000</td>\n",
       "      <td>8.000000</td>\n",
       "      <td>6.000000</td>\n",
       "      <td>512.329200</td>\n",
       "    </tr>\n",
       "  </tbody>\n",
       "</table>\n",
       "</div>"
      ],
      "text/plain": [
       "       PassengerId    Survived      Pclass         Age       SibSp  \\\n",
       "count   891.000000  891.000000  891.000000  714.000000  891.000000   \n",
       "mean    446.000000    0.383838    2.308642   29.699118    0.523008   \n",
       "std     257.353842    0.486592    0.836071   14.526497    1.102743   \n",
       "min       1.000000    0.000000    1.000000    0.420000    0.000000   \n",
       "25%     223.500000    0.000000    2.000000   20.125000    0.000000   \n",
       "50%     446.000000    0.000000    3.000000   28.000000    0.000000   \n",
       "75%     668.500000    1.000000    3.000000   38.000000    1.000000   \n",
       "max     891.000000    1.000000    3.000000   80.000000    8.000000   \n",
       "\n",
       "            Parch        Fare  \n",
       "count  891.000000  891.000000  \n",
       "mean     0.381594   32.204208  \n",
       "std      0.806057   49.693429  \n",
       "min      0.000000    0.000000  \n",
       "25%      0.000000    7.910400  \n",
       "50%      0.000000   14.454200  \n",
       "75%      0.000000   31.000000  \n",
       "max      6.000000  512.329200  "
      ]
     },
     "execution_count": 50,
     "metadata": {},
     "output_type": "execute_result"
    }
   ],
   "source": [
    "titanic_df.describe()"
   ]
  },
  {
   "cell_type": "markdown",
   "metadata": {},
   "source": [
    "<b>NOTE:</b> In the above data,the number of passengers travelled was 891 and the count for each column is same but for 'Age' it's 714 there might be some Data missing or Not mentioned in the 'Age'. It can be corrected by Data Wrangling"
   ]
  },
  {
   "cell_type": "markdown",
   "metadata": {},
   "source": [
    "# Data Wrangling "
   ]
  },
  {
   "cell_type": "code",
   "execution_count": 51,
   "metadata": {},
   "outputs": [
    {
     "data": {
      "text/plain": [
       "PassengerId      0\n",
       "Survived         0\n",
       "Pclass           0\n",
       "Name             0\n",
       "Sex              0\n",
       "Age            177\n",
       "SibSp            0\n",
       "Parch            0\n",
       "Ticket           0\n",
       "Fare             0\n",
       "Cabin          687\n",
       "Embarked         2\n",
       "dtype: int64"
      ]
     },
     "execution_count": 51,
     "metadata": {},
     "output_type": "execute_result"
    }
   ],
   "source": [
    "#finding number of missing values in the given data\n",
    "titanic_df.isnull().sum()"
   ]
  },
  {
   "cell_type": "markdown",
   "metadata": {},
   "source": [
    ">There are some missing values in variables 'Age' , 'Cabin' and 'Embarked'"
   ]
  },
  {
   "cell_type": "code",
   "execution_count": 52,
   "metadata": {
    "collapsed": true
   },
   "outputs": [],
   "source": [
    "#filling unknown in place of missing data in 'Embarked'\n",
    "k='unknown'\n",
    "titanic_df['Embarked'].fillna(k,inplace=True)\n"
   ]
  },
  {
   "cell_type": "code",
   "execution_count": 53,
   "metadata": {},
   "outputs": [
    {
     "name": "stdout",
     "output_type": "stream",
     "text": [
      "29.7\n",
      "count    891.000000\n",
      "mean      29.699293\n",
      "std       13.002015\n",
      "min        0.420000\n",
      "25%       22.000000\n",
      "50%       29.700000\n",
      "75%       35.000000\n",
      "max       80.000000\n",
      "Name: Age, dtype: float64\n"
     ]
    }
   ],
   "source": [
    "#filling the mean age in place of missing values\n",
    "mean =round(titanic_df['Age'].mean(),2)\n",
    "print mean\n",
    "titanic_df['Age'].fillna(mean,inplace=True)\n",
    "print titanic_df['Age'].describe()"
   ]
  },
  {
   "cell_type": "markdown",
   "metadata": {},
   "source": [
    "Now the 'Age' column has been cleaned by filling the missing values with mean of Ages"
   ]
  },
  {
   "cell_type": "code",
   "execution_count": 54,
   "metadata": {
    "collapsed": true
   },
   "outputs": [],
   "source": [
    "# filling unknown in place of missing data in 'Cabin'\n",
    "titanic_df['Cabin'].fillna('unknown',inplace=True)"
   ]
  },
  {
   "cell_type": "code",
   "execution_count": 55,
   "metadata": {},
   "outputs": [
    {
     "data": {
      "text/plain": [
       "PassengerId    0\n",
       "Survived       0\n",
       "Pclass         0\n",
       "Name           0\n",
       "Sex            0\n",
       "Age            0\n",
       "SibSp          0\n",
       "Parch          0\n",
       "Ticket         0\n",
       "Fare           0\n",
       "Cabin          0\n",
       "Embarked       0\n",
       "dtype: int64"
      ]
     },
     "execution_count": 55,
     "metadata": {},
     "output_type": "execute_result"
    }
   ],
   "source": [
    "#After Data Wrangling\n",
    "titanic_df.isnull().sum()"
   ]
  },
  {
   "cell_type": "markdown",
   "metadata": {},
   "source": [
    "><b>NOTE:</b> since there are lot of missing values in 'Cabin' .I fell this variable wouldn't help to analyse preciesly, for anlysis I'm ignoring this variable  "
   ]
  },
  {
   "cell_type": "markdown",
   "metadata": {},
   "source": [
    "# Exploratory Analysis"
   ]
  },
  {
   "cell_type": "markdown",
   "metadata": {},
   "source": [
    "# 1.Passenger Analysis"
   ]
  },
  {
   "cell_type": "code",
   "execution_count": 56,
   "metadata": {},
   "outputs": [
    {
     "name": "stdout",
     "output_type": "stream",
     "text": [
      "Number of passengers survived: 342\n"
     ]
    }
   ],
   "source": [
    "#total number of people survived\n",
    "print 'Number of passengers survived:',len(titanic_df.loc[titanic_df['Survived']==1])"
   ]
  },
  {
   "cell_type": "markdown",
   "metadata": {},
   "source": [
    "Among <b>891</b> passengers only <b><ins>342</ins></b> have survived."
   ]
  },
  {
   "cell_type": "markdown",
   "metadata": {},
   "source": [
    "### 1.1Analysis by gender"
   ]
  },
  {
   "cell_type": "code",
   "execution_count": 57,
   "metadata": {},
   "outputs": [
    {
     "name": "stdout",
     "output_type": "stream",
     "text": [
      "passengers travelled by Gender\n",
      "Sex\n",
      "female  314\n",
      "male    577\n",
      "\n",
      "Survival count by Gender\n",
      "Sex\n",
      "female    233\n",
      "male      109\n",
      "Name: Survived, dtype: int64\n",
      "\n",
      "Survival rate by Gender\n",
      "Sex\n",
      "female    0.742038\n",
      "male      0.188908\n",
      "Name: Survived, dtype: float64\n"
     ]
    }
   ],
   "source": [
    "#number of people survived by gender\n",
    "print 'passengers travelled by Gender'\n",
    "print 'Sex'\n",
    "print 'female ',len(titanic_df.loc[titanic_df['Sex']=='female'])\n",
    "print 'male   ',len(titanic_df.loc[titanic_df['Sex']=='male'])\n",
    "print '\\nSurvival count by Gender'\n",
    "print titanic_df.groupby('Sex')['Survived'].sum()\n",
    "print '\\nSurvival rate by Gender'\n",
    "print titanic_df.groupby('Sex')['Survived'].mean()"
   ]
  },
  {
   "cell_type": "markdown",
   "metadata": {},
   "source": [
    "The Survival count of <strong>FEMALES </strong>is grater than MALES \n",
    "\n",
    "<b>74%</b> of <strong>FEMALE</strong> passengers survived"
   ]
  },
  {
   "cell_type": "markdown",
   "metadata": {},
   "source": [
    "### 1.2 Analysis by CLASS"
   ]
  },
  {
   "cell_type": "code",
   "execution_count": 58,
   "metadata": {},
   "outputs": [
    {
     "name": "stdout",
     "output_type": "stream",
     "text": [
      "Number of passengers travelled by Class\n",
      "Pclass\n",
      "1    216\n",
      "2    184\n",
      "3    491\n",
      "\n",
      "Number of Passengers Survived by Class\n",
      "Pclass\n",
      "1    136\n",
      "2     87\n",
      "3    119\n",
      "Name: Survived, dtype: int64\n",
      "\n",
      "Survival rate by Class\n",
      "Pclass\n",
      "1    0.629630\n",
      "2    0.472826\n",
      "3    0.242363\n",
      "Name: Survived, dtype: float64\n"
     ]
    }
   ],
   "source": [
    "print 'Number of passengers travelled by Class'\n",
    "print 'Pclass'\n",
    "print  '1   ',len(titanic_df.loc[titanic_df['Pclass']==1])\n",
    "print '2   ',len(titanic_df.loc[titanic_df['Pclass']==2])\n",
    "print '3   ',len(titanic_df.loc[titanic_df['Pclass']==3])\n",
    "print '\\nNumber of Passengers Survived by Class'\n",
    "#number of people survived by class`\n",
    "print titanic_df.groupby('Pclass')['Survived'].sum()\n",
    "print '\\nSurvival rate by Class'\n",
    "print titanic_df.groupby('Pclass')['Survived'].mean()"
   ]
  },
  {
   "cell_type": "markdown",
   "metadata": {},
   "source": [
    "##### Findings  from the above analysis:\n",
    "1.The number of passengers travelled in <b> CLASS-3 </b> is higher than any other classes.\n",
    "\n",
    "2.Passengers travelled in <b>CLASS -1</b> has more survivals.\n",
    "\n",
    "3.The survival percentage of passengers travelled in <b>Class-1</b> is more compared to other two classes, about <b>62%</b> of passengers have survived.Apparently ,the survival percentage of passengers travelled in <b>Class-3</b> is very less\n",
    "only <b>24%</b> of passengers have survived."
   ]
  },
  {
   "cell_type": "markdown",
   "metadata": {},
   "source": [
    "### 1.2 Analysis by PORT Embarked"
   ]
  },
  {
   "cell_type": "code",
   "execution_count": 59,
   "metadata": {
    "scrolled": true
   },
   "outputs": [
    {
     "name": "stdout",
     "output_type": "stream",
     "text": [
      "Number of passengers boarded by PORT\n",
      "Embarked\n",
      "C    168\n",
      "Q    77\n",
      "S    644\n",
      "\n",
      "Number of passengers Survived by Embarked PORT\n",
      "Embarked\n",
      "C           93\n",
      "Q           30\n",
      "S          217\n",
      "unknown      2\n",
      "Name: Survived, dtype: int64\n",
      "\n",
      "Survival rate by Embarked PORT\n",
      "Embarked\n",
      "C          0.553571\n",
      "Q          0.389610\n",
      "S          0.336957\n",
      "unknown    1.000000\n",
      "Name: Survived, dtype: float64\n"
     ]
    }
   ],
   "source": [
    "print 'Number of passengers boarded by PORT'\n",
    "print 'Embarked'\n",
    "print  'C   ',len(titanic_df.loc[titanic_df['Embarked']=='C'])\n",
    "print 'Q   ',len(titanic_df.loc[titanic_df['Embarked']=='Q'])\n",
    "print 'S   ',len(titanic_df.loc[titanic_df['Embarked']=='S'])\n",
    "print '\\nNumber of passengers Survived by Embarked PORT'\n",
    "#number of people survived by port embarked\n",
    "print titanic_df.groupby('Embarked')['Survived'].sum()\n",
    "print '\\nSurvival rate by Embarked PORT'\n",
    "print titanic_df.groupby('Embarked')['Survived'].mean()"
   ]
  },
  {
   "cell_type": "markdown",
   "metadata": {},
   "source": [
    "##### Findings  from the above analysis:\n",
    "1.<b> PORT-S </b> has the higest number of passengers boarded and Survivals too.\n",
    "\n",
    "2.The survival percentage of passengers boarded from <b>PORT-C</b> is more compared to other two Ports, about <b>55%</b> of passengers have survived.Apparently ,the survival percentage of passengers boarded from  Ports <b>Q</b> and <b>S</b> is in between <b>33%-36%</b> only\n",
    "\n",
    "3.It's 2 Females who embarked from the unknown port and both Survived"
   ]
  },
  {
   "cell_type": "markdown",
   "metadata": {},
   "source": [
    "### 1.3Analysis by Gender,Class and Port Embarked"
   ]
  },
  {
   "cell_type": "code",
   "execution_count": 60,
   "metadata": {},
   "outputs": [
    {
     "data": {
      "text/plain": [
       "Sex     Pclass  Embarked\n",
       "female  1       C           42\n",
       "                Q            1\n",
       "                S           46\n",
       "                unknown      2\n",
       "        2       C            7\n",
       "                Q            2\n",
       "                S           61\n",
       "        3       C           15\n",
       "                Q           24\n",
       "                S           33\n",
       "male    1       C           17\n",
       "                Q            0\n",
       "                S           28\n",
       "        2       C            2\n",
       "                Q            0\n",
       "                S           15\n",
       "        3       C           10\n",
       "                Q            3\n",
       "                S           34\n",
       "Name: Survived, dtype: int64"
      ]
     },
     "execution_count": 60,
     "metadata": {},
     "output_type": "execute_result"
    }
   ],
   "source": [
    "titanic_df.groupby(['Sex','Pclass','Embarked'])['Survived'].sum()"
   ]
  },
  {
   "cell_type": "markdown",
   "metadata": {},
   "source": [
    "##### Findings  from the above analysis:\n",
    "1.Number of <b>FEMALE</b> survivers embarked at <b>PORT-S</b> and travelled in <b>CLASS-2</b> are more.\n",
    "\n",
    "2.Number of <b>MALE</b> survivers embarked at <b>PORT-S</b> and travelled in <b>CLASS-3</b> are more.\n",
    "\n",
    "3.<mark>MALES who travelled in <b>CLASS-1</b> and <b>CLASS-2</b> boarded at <b>PORT-Q</b> haven't survived</mark>"
   ]
  },
  {
   "cell_type": "markdown",
   "metadata": {},
   "source": [
    "## 2. Analysis of Survivals by Visualisation"
   ]
  },
  {
   "cell_type": "code",
   "execution_count": 61,
   "metadata": {
    "collapsed": true
   },
   "outputs": [],
   "source": [
    "#collecting the data of passengers who survived \n",
    "survived=titanic_df.loc[(titanic_df['Survived']==1)]"
   ]
  },
  {
   "cell_type": "code",
   "execution_count": 62,
   "metadata": {},
   "outputs": [
    {
     "data": {
      "text/html": [
       "<div>\n",
       "<style>\n",
       "    .dataframe thead tr:only-child th {\n",
       "        text-align: right;\n",
       "    }\n",
       "\n",
       "    .dataframe thead th {\n",
       "        text-align: left;\n",
       "    }\n",
       "\n",
       "    .dataframe tbody tr th {\n",
       "        vertical-align: top;\n",
       "    }\n",
       "</style>\n",
       "<table border=\"1\" class=\"dataframe\">\n",
       "  <thead>\n",
       "    <tr style=\"text-align: right;\">\n",
       "      <th></th>\n",
       "      <th>PassengerId</th>\n",
       "      <th>Survived</th>\n",
       "      <th>Pclass</th>\n",
       "      <th>Name</th>\n",
       "      <th>Sex</th>\n",
       "      <th>Age</th>\n",
       "      <th>SibSp</th>\n",
       "      <th>Parch</th>\n",
       "      <th>Ticket</th>\n",
       "      <th>Fare</th>\n",
       "      <th>Cabin</th>\n",
       "      <th>Embarked</th>\n",
       "    </tr>\n",
       "  </thead>\n",
       "  <tbody>\n",
       "    <tr>\n",
       "      <th>1</th>\n",
       "      <td>2</td>\n",
       "      <td>1</td>\n",
       "      <td>1</td>\n",
       "      <td>Cumings, Mrs. John Bradley (Florence Briggs Th...</td>\n",
       "      <td>female</td>\n",
       "      <td>38.0</td>\n",
       "      <td>1</td>\n",
       "      <td>0</td>\n",
       "      <td>PC 17599</td>\n",
       "      <td>71.2833</td>\n",
       "      <td>C85</td>\n",
       "      <td>C</td>\n",
       "    </tr>\n",
       "    <tr>\n",
       "      <th>2</th>\n",
       "      <td>3</td>\n",
       "      <td>1</td>\n",
       "      <td>3</td>\n",
       "      <td>Heikkinen, Miss. Laina</td>\n",
       "      <td>female</td>\n",
       "      <td>26.0</td>\n",
       "      <td>0</td>\n",
       "      <td>0</td>\n",
       "      <td>STON/O2. 3101282</td>\n",
       "      <td>7.9250</td>\n",
       "      <td>unknown</td>\n",
       "      <td>S</td>\n",
       "    </tr>\n",
       "    <tr>\n",
       "      <th>3</th>\n",
       "      <td>4</td>\n",
       "      <td>1</td>\n",
       "      <td>1</td>\n",
       "      <td>Futrelle, Mrs. Jacques Heath (Lily May Peel)</td>\n",
       "      <td>female</td>\n",
       "      <td>35.0</td>\n",
       "      <td>1</td>\n",
       "      <td>0</td>\n",
       "      <td>113803</td>\n",
       "      <td>53.1000</td>\n",
       "      <td>C123</td>\n",
       "      <td>S</td>\n",
       "    </tr>\n",
       "    <tr>\n",
       "      <th>8</th>\n",
       "      <td>9</td>\n",
       "      <td>1</td>\n",
       "      <td>3</td>\n",
       "      <td>Johnson, Mrs. Oscar W (Elisabeth Vilhelmina Berg)</td>\n",
       "      <td>female</td>\n",
       "      <td>27.0</td>\n",
       "      <td>0</td>\n",
       "      <td>2</td>\n",
       "      <td>347742</td>\n",
       "      <td>11.1333</td>\n",
       "      <td>unknown</td>\n",
       "      <td>S</td>\n",
       "    </tr>\n",
       "    <tr>\n",
       "      <th>9</th>\n",
       "      <td>10</td>\n",
       "      <td>1</td>\n",
       "      <td>2</td>\n",
       "      <td>Nasser, Mrs. Nicholas (Adele Achem)</td>\n",
       "      <td>female</td>\n",
       "      <td>14.0</td>\n",
       "      <td>1</td>\n",
       "      <td>0</td>\n",
       "      <td>237736</td>\n",
       "      <td>30.0708</td>\n",
       "      <td>unknown</td>\n",
       "      <td>C</td>\n",
       "    </tr>\n",
       "  </tbody>\n",
       "</table>\n",
       "</div>"
      ],
      "text/plain": [
       "   PassengerId  Survived  Pclass  \\\n",
       "1            2         1       1   \n",
       "2            3         1       3   \n",
       "3            4         1       1   \n",
       "8            9         1       3   \n",
       "9           10         1       2   \n",
       "\n",
       "                                                Name     Sex   Age  SibSp  \\\n",
       "1  Cumings, Mrs. John Bradley (Florence Briggs Th...  female  38.0      1   \n",
       "2                             Heikkinen, Miss. Laina  female  26.0      0   \n",
       "3       Futrelle, Mrs. Jacques Heath (Lily May Peel)  female  35.0      1   \n",
       "8  Johnson, Mrs. Oscar W (Elisabeth Vilhelmina Berg)  female  27.0      0   \n",
       "9                Nasser, Mrs. Nicholas (Adele Achem)  female  14.0      1   \n",
       "\n",
       "   Parch            Ticket     Fare    Cabin Embarked  \n",
       "1      0          PC 17599  71.2833      C85        C  \n",
       "2      0  STON/O2. 3101282   7.9250  unknown        S  \n",
       "3      0            113803  53.1000     C123        S  \n",
       "8      2            347742  11.1333  unknown        S  \n",
       "9      0            237736  30.0708  unknown        C  "
      ]
     },
     "execution_count": 62,
     "metadata": {},
     "output_type": "execute_result"
    }
   ],
   "source": [
    "#Data of passengers survived\n",
    "survived.head()"
   ]
  },
  {
   "cell_type": "markdown",
   "metadata": {},
   "source": [
    "### 2.1 Survivals by Age"
   ]
  },
  {
   "cell_type": "code",
   "execution_count": 63,
   "metadata": {},
   "outputs": [
    {
     "data": {
      "image/png": "[encoded data removed]",
      "text/plain": [
       "<matplotlib.figure.Figure at 0xd40aa20>"
      ]
     },
     "metadata": {},
     "output_type": "display_data"
    }
   ],
   "source": [
    "import seaborn as sns\n",
    "age_bins = np.arange(0, 100, 4)\n",
    "sns.distplot(titanic_df.loc[(titanic_df['Survived']==0) & (~titanic_df['Age'].isnull()),'Age'], bins=age_bins)\n",
    "sns.distplot(titanic_df.loc[(titanic_df['Survived']==1) & (~titanic_df['Age'].isnull()),'Age'], bins=age_bins)\n",
    "plt.title('age distribution among survival classes')\n",
    "plt.ylabel('frequency')\n",
    "plt.legend(['did not survive', 'survived']);"
   ]
  },
  {
   "cell_type": "markdown",
   "metadata": {},
   "source": [
    "1.Most of the survivals belong to the age group 20-30\n",
    "\n",
    "2.Since it is a <b>Normal Distribution</b> , The mean,mode and median are almost same.\n",
    "\n",
    "3.Passengers who belong to age group 65-72 hasn't survived"
   ]
  },
  {
   "cell_type": "markdown",
   "metadata": {},
   "source": [
    "### 2.2 Survaivals by Gender"
   ]
  },
  {
   "cell_type": "code",
   "execution_count": 64,
   "metadata": {},
   "outputs": [
    {
     "name": "stdout",
     "output_type": "stream",
     "text": [
      "Populating the interactive namespace from numpy and matplotlib\n"
     ]
    },
    {
     "data": {
      "image/png": "[encoded data removed]",
      "text/plain": [
       "<matplotlib.figure.Figure at 0xd1e9128>"
      ]
     },
     "metadata": {},
     "output_type": "display_data"
    }
   ],
   "source": [
    "#Gender Visuilisation\n",
    "%pylab inline\n",
    "ax=sns.countplot(x='Sex',hue='Survived',data=titanic_df)\n",
    "ax.legend(['Deceased','Survived'],title='')\n",
    "ax.set_title('Survival count by gender');"
   ]
  },
  {
   "cell_type": "markdown",
   "metadata": {},
   "source": [
    "> Deceased count of <b>Male</b> is higher than <b>Female</b> \n",
    "\n",
    "> Survival count of <b>FeMale</b> is higher than <b>male</b>"
   ]
  },
  {
   "cell_type": "code",
   "execution_count": 65,
   "metadata": {},
   "outputs": [
    {
     "data": {
      "text/plain": [
       "<matplotlib.text.Text at 0xd60a4e0>"
      ]
     },
     "execution_count": 65,
     "metadata": {},
     "output_type": "execute_result"
    },
    {
     "data": {
      "image/png": "[encoded data removed]",
      "text/plain": [
       "<matplotlib.figure.Figure at 0xd8bf5c0>"
      ]
     },
     "metadata": {},
     "output_type": "display_data"
    }
   ],
   "source": [
    "plt.figure()\n",
    "sns.countplot(x='Sex',hue='Pclass',data=survived)\n",
    "plt.title('Survival count of gender by class')"
   ]
  },
  {
   "cell_type": "code",
   "execution_count": 66,
   "metadata": {},
   "outputs": [
    {
     "data": {
      "text/plain": [
       "<matplotlib.text.Text at 0xcfd3a20>"
      ]
     },
     "execution_count": 66,
     "metadata": {},
     "output_type": "execute_result"
    },
    {
     "data": {
      "image/png": "[encoded data removed]",
      "text/plain": [
       "<matplotlib.figure.Figure at 0xd5fca58>"
      ]
     },
     "metadata": {},
     "output_type": "display_data"
    }
   ],
   "source": [
    "plt.figure()\n",
    "sns.countplot(x='Sex',hue='Embarked',data=survived)\n",
    "plt.title('Survival count of gender by Origin')"
   ]
  },
  {
   "cell_type": "markdown",
   "metadata": {},
   "source": []
  },
  {
   "cell_type": "markdown",
   "metadata": {},
   "source": [
    "## 3.Family analysis"
   ]
  },
  {
   "cell_type": "code",
   "execution_count": 67,
   "metadata": {},
   "outputs": [
    {
     "data": {
      "text/plain": [
       "163"
      ]
     },
     "execution_count": 67,
     "metadata": {},
     "output_type": "execute_result"
    }
   ],
   "source": [
    "#number of Passengers who survived and dosen't have family\n",
    "\n",
    "no_family=titanic_df['SibSp']+titanic_df['Parch']\n",
    "len(titanic_df.loc[(no_family==0)&(titanic_df['Survived']==1),'SibSp'])"
   ]
  },
  {
   "cell_type": "code",
   "execution_count": 68,
   "metadata": {},
   "outputs": [
    {
     "data": {
      "text/plain": [
       "179"
      ]
     },
     "execution_count": 68,
     "metadata": {},
     "output_type": "execute_result"
    }
   ],
   "source": [
    "#number of passengers survived along with atleast one of their families \n",
    "families_survived=titanic_df.loc[((titanic_df['SibSp']!=0) | (titanic_df['Parch']!=0))&(titanic_df['Survived']==1)]\n",
    "len(families_survived)"
   ]
  },
  {
   "cell_type": "markdown",
   "metadata": {},
   "source": [
    "Among <b>342</b> survivals <b>163</b> passengers are single and dosen't have family onboard, and <b>179</b> passengers have families and atleast one of their family members survived "
   ]
  },
  {
   "cell_type": "code",
   "execution_count": 69,
   "metadata": {},
   "outputs": [
    {
     "data": {
      "text/html": [
       "<div>\n",
       "<style>\n",
       "    .dataframe thead tr:only-child th {\n",
       "        text-align: right;\n",
       "    }\n",
       "\n",
       "    .dataframe thead th {\n",
       "        text-align: left;\n",
       "    }\n",
       "\n",
       "    .dataframe tbody tr th {\n",
       "        vertical-align: top;\n",
       "    }\n",
       "</style>\n",
       "<table border=\"1\" class=\"dataframe\">\n",
       "  <thead>\n",
       "    <tr style=\"text-align: right;\">\n",
       "      <th></th>\n",
       "      <th>PassengerId</th>\n",
       "      <th>Survived</th>\n",
       "      <th>Pclass</th>\n",
       "      <th>Name</th>\n",
       "      <th>Sex</th>\n",
       "      <th>Age</th>\n",
       "      <th>SibSp</th>\n",
       "      <th>Parch</th>\n",
       "      <th>Ticket</th>\n",
       "      <th>Fare</th>\n",
       "      <th>Cabin</th>\n",
       "      <th>Embarked</th>\n",
       "    </tr>\n",
       "  </thead>\n",
       "  <tbody>\n",
       "    <tr>\n",
       "      <th>1</th>\n",
       "      <td>2</td>\n",
       "      <td>1</td>\n",
       "      <td>1</td>\n",
       "      <td>Cumings, Mrs. John Bradley (Florence Briggs Th...</td>\n",
       "      <td>female</td>\n",
       "      <td>38.0</td>\n",
       "      <td>1</td>\n",
       "      <td>0</td>\n",
       "      <td>PC 17599</td>\n",
       "      <td>71.2833</td>\n",
       "      <td>C85</td>\n",
       "      <td>C</td>\n",
       "    </tr>\n",
       "    <tr>\n",
       "      <th>3</th>\n",
       "      <td>4</td>\n",
       "      <td>1</td>\n",
       "      <td>1</td>\n",
       "      <td>Futrelle, Mrs. Jacques Heath (Lily May Peel)</td>\n",
       "      <td>female</td>\n",
       "      <td>35.0</td>\n",
       "      <td>1</td>\n",
       "      <td>0</td>\n",
       "      <td>113803</td>\n",
       "      <td>53.1000</td>\n",
       "      <td>C123</td>\n",
       "      <td>S</td>\n",
       "    </tr>\n",
       "    <tr>\n",
       "      <th>8</th>\n",
       "      <td>9</td>\n",
       "      <td>1</td>\n",
       "      <td>3</td>\n",
       "      <td>Johnson, Mrs. Oscar W (Elisabeth Vilhelmina Berg)</td>\n",
       "      <td>female</td>\n",
       "      <td>27.0</td>\n",
       "      <td>0</td>\n",
       "      <td>2</td>\n",
       "      <td>347742</td>\n",
       "      <td>11.1333</td>\n",
       "      <td>unknown</td>\n",
       "      <td>S</td>\n",
       "    </tr>\n",
       "    <tr>\n",
       "      <th>9</th>\n",
       "      <td>10</td>\n",
       "      <td>1</td>\n",
       "      <td>2</td>\n",
       "      <td>Nasser, Mrs. Nicholas (Adele Achem)</td>\n",
       "      <td>female</td>\n",
       "      <td>14.0</td>\n",
       "      <td>1</td>\n",
       "      <td>0</td>\n",
       "      <td>237736</td>\n",
       "      <td>30.0708</td>\n",
       "      <td>unknown</td>\n",
       "      <td>C</td>\n",
       "    </tr>\n",
       "    <tr>\n",
       "      <th>10</th>\n",
       "      <td>11</td>\n",
       "      <td>1</td>\n",
       "      <td>3</td>\n",
       "      <td>Sandstrom, Miss. Marguerite Rut</td>\n",
       "      <td>female</td>\n",
       "      <td>4.0</td>\n",
       "      <td>1</td>\n",
       "      <td>1</td>\n",
       "      <td>PP 9549</td>\n",
       "      <td>16.7000</td>\n",
       "      <td>G6</td>\n",
       "      <td>S</td>\n",
       "    </tr>\n",
       "  </tbody>\n",
       "</table>\n",
       "</div>"
      ],
      "text/plain": [
       "    PassengerId  Survived  Pclass  \\\n",
       "1             2         1       1   \n",
       "3             4         1       1   \n",
       "8             9         1       3   \n",
       "9            10         1       2   \n",
       "10           11         1       3   \n",
       "\n",
       "                                                 Name     Sex   Age  SibSp  \\\n",
       "1   Cumings, Mrs. John Bradley (Florence Briggs Th...  female  38.0      1   \n",
       "3        Futrelle, Mrs. Jacques Heath (Lily May Peel)  female  35.0      1   \n",
       "8   Johnson, Mrs. Oscar W (Elisabeth Vilhelmina Berg)  female  27.0      0   \n",
       "9                 Nasser, Mrs. Nicholas (Adele Achem)  female  14.0      1   \n",
       "10                    Sandstrom, Miss. Marguerite Rut  female   4.0      1   \n",
       "\n",
       "    Parch    Ticket     Fare    Cabin Embarked  \n",
       "1       0  PC 17599  71.2833      C85        C  \n",
       "3       0    113803  53.1000     C123        S  \n",
       "8       2    347742  11.1333  unknown        S  \n",
       "9       0    237736  30.0708  unknown        C  \n",
       "10      1   PP 9549  16.7000       G6        S  "
      ]
     },
     "execution_count": 69,
     "metadata": {},
     "output_type": "execute_result"
    }
   ],
   "source": [
    "families_survived.head()"
   ]
  },
  {
   "cell_type": "markdown",
   "metadata": {},
   "source": [
    "since the members of a family have same <b>'Ticket'</b> number .It will be easier to identify the members of a family who survived .Below they are grouped by 'Ticket','Name' and 'family_count'\n",
    "\n",
    ">  <b>Note:</b> Here the 'family_count' resembles to number of passengers from his/her family travelling in the ship "
   ]
  },
  {
   "cell_type": "code",
   "execution_count": 70,
   "metadata": {},
   "outputs": [
    {
     "data": {
      "text/plain": [
       "Ticket             Name                                                                                family_count\n",
       "110413             Taussig, Miss. Ruth                                                                 2               1\n",
       "                   Taussig, Mrs. Emil (Tillie Mandelbaum)                                              2               1\n",
       "110813             Warren, Mrs. Frank Manley (Anna Sophia Atkinson)                                    1               1\n",
       "111361             Hippach, Miss. Jean Gertrude                                                        1               1\n",
       "                   Hippach, Mrs. Louis Albert (Ida Sophia Fischer)                                     1               1\n",
       "113505             Bowerman, Miss. Elsie Edith                                                         1               1\n",
       "                   Chibnall, Mrs. (Edith Martha Bowerman)                                              1               1\n",
       "113760             Carter, Master. William Thornton II                                                 3               1\n",
       "                   Carter, Miss. Lucile Polk                                                           3               1\n",
       "                   Carter, Mr. William Ernest                                                          3               1\n",
       "                   Carter, Mrs. William Ernest (Lucile Polk)                                           3               1\n",
       "113776             Pears, Mrs. Thomas (Edith Wearne)                                                   1               1\n",
       "113781             Allison, Master. Hudson Trevor                                                      3               1\n",
       "113789             Holverson, Mrs. Alexander Oskar (Mary Aline Towner)                                 1               1\n",
       "113803             Futrelle, Mrs. Jacques Heath (Lily May Peel)                                        1               1\n",
       "113806             Chambers, Mr. Norman Campbell                                                       1               1\n",
       "                   Chambers, Mrs. Norman Campbell (Bertha Griggs)                                      1               1\n",
       "11751              Beckwith, Mr. Richard Leonard                                                       2               1\n",
       "                   Beckwith, Mrs. Richard Leonard (Sallie Monypeny)                                    2               1\n",
       "11752              Newsom, Miss. Helen Monypeny                                                        2               1\n",
       "11753              Kimball, Mr. Edwin Nelson Jr                                                        1               1\n",
       "11755              Duff Gordon, Lady. (Lucille Christiana Sutherland) (\"Mrs Morgan\")                   1               1\n",
       "11765              Harder, Mr. George Achilles                                                         1               1\n",
       "11767              Potter, Mrs. Thomas Jr (Lily Alexenia Wilson)                                       1               1\n",
       "11769              Appleton, Mrs. Edward Dale (Charlotte Lamson)                                       2               1\n",
       "11967              Bishop, Mr. Dickinson H                                                             1               1\n",
       "                   Bishop, Mrs. Dickinson H (Helen Walton)                                             1               1\n",
       "12749              Hays, Mrs. Charles Melville (Clara Jennings Gregg)                                  2               1\n",
       "13502              Andrews, Miss. Kornelia Theodosia                                                   1               1\n",
       "                   Hogeboom, Mrs. John C (Anna Andrews)                                                1               1\n",
       "                                                                                                                      ..\n",
       "P/PP 3381          Abelson, Mrs. Samuel (Hannah Wizosky)                                               1               1\n",
       "PC 17485           Duff Gordon, Sir. Cosmo Edmund (\"Mr Morgan\")                                        1               1\n",
       "PC 17558           Baxter, Mrs. James (Helene DeLaudeniere Chaput)                                     1               1\n",
       "PC 17569           Spencer, Mrs. William Augustus (Marie Eugenie)                                      1               1\n",
       "PC 17572           Harper, Mr. Henry Sleeper                                                           1               1\n",
       "                   Harper, Mrs. Henry Sleeper (Myna Haxtun)                                            1               1\n",
       "PC 17582           Graham, Mrs. William Thompson (Edith Junkins)                                       1               1\n",
       "PC 17592           Lines, Miss. Mary Conover                                                           1               1\n",
       "PC 17599           Cumings, Mrs. John Bradley (Florence Briggs Thayer)                                 1               1\n",
       "PC 17603           Rothschild, Mrs. Martin (Elizabeth L. Barrett)                                      1               1\n",
       "PC 17604           Meyer, Mrs. Edgar Joseph (Leila Saks)                                               1               1\n",
       "PC 17608           Ryerson, Miss. Emily Borie                                                          4               1\n",
       "                   Ryerson, Miss. Susan Parker \"Suzette\"                                               4               1\n",
       "PC 17611           Frauenthal, Dr. Henry William                                                       2               1\n",
       "                   Frauenthal, Mrs. Henry William (Clara Heinsheimer)                                  1               1\n",
       "PC 17755           Cardeza, Mr. Thomas Drake Martinez                                                  1               1\n",
       "PC 17756           Compton, Miss. Sara Rebecca                                                         2               1\n",
       "PC 17757           Astor, Mrs. John Jacob (Madeleine Talmadge Force)                                   1               1\n",
       "PC 17758           Penasco y Castellana, Mrs. Victor de Satode (Maria Josefa Perez de Soto y Vallejo)  1               1\n",
       "PC 17759           Greenfield, Mr. William Bertram                                                     1               1\n",
       "PP 9549            Sandstrom, Miss. Marguerite Rut                                                     2               1\n",
       "                   Sandstrom, Mrs. Hjalmar (Agnes Charlotta Bengtsson)                                 2               1\n",
       "S.C./PARIS 2079    Mallet, Master. Andre                                                               2               1\n",
       "SC/AH 3085         Louch, Mrs. Charles Alexander (Alice Adelaide Slow)                                 1               1\n",
       "SC/PARIS 2149      Duran y More, Miss. Asuncion                                                        1               1\n",
       "SC/Paris 2123      Laroche, Miss. Simonne Marie Anne Andree                                            3               1\n",
       "                   Laroche, Mrs. Joseph (Juliette Marie Louise Lafargue)                               3               1\n",
       "STON/O 2. 3101285  Lindqvist, Mr. Eino William                                                         1               1\n",
       "STON/O2. 3101279   Hakkarainen, Mrs. Pekka Pietari (Elin Matilda Dolck)                                1               1\n",
       "WE/P 5735          Crosby, Miss. Harriet R                                                             2               1\n",
       "Name: Survived, Length: 179, dtype: int64"
      ]
     },
     "execution_count": 70,
     "metadata": {},
     "output_type": "execute_result"
    }
   ],
   "source": [
    "#Setting 'Name ' as an index\n",
    "ticket_index=families_survived.set_index('Name',inplace=False)\n",
    "#Survived passengers and Family Members with Respect to 'Ticket'\n",
    "ticket_index['family_count']=ticket_index['SibSp']+ticket_index['Parch']\n",
    "ticket_index.groupby(['Ticket','Name','family_count'])['Survived'].mean()"
   ]
  },
  {
   "cell_type": "markdown",
   "metadata": {},
   "source": []
  },
  {
   "cell_type": "markdown",
   "metadata": {},
   "source": [
    "### 3.1 Finding the unsurvived Family Member"
   ]
  },
  {
   "cell_type": "code",
   "execution_count": 71,
   "metadata": {},
   "outputs": [
    {
     "data": {
      "text/plain": [
       "<pandas.core.groupby.DataFrameGroupBy object at 0x000000000CBCABE0>"
      ]
     },
     "execution_count": 71,
     "metadata": {},
     "output_type": "execute_result"
    }
   ],
   "source": [
    "#changing index to 'Ticket'\n",
    "titanic_ticket_index=titanic_df.set_index('Ticket',inplace=False)\n",
    "family=ticket_index.merge(titanic_df,on='Ticket',how='inner')  \n",
    "family[['Ticket','Name']].groupby('Ticket')"
   ]
  },
  {
   "cell_type": "code",
   "execution_count": 72,
   "metadata": {
    "scrolled": true
   },
   "outputs": [
    {
     "data": {
      "text/plain": [
       "Ticket             Name                                                                                family_count\n",
       "110413             Taussig, Miss. Ruth                                                                 2               1\n",
       "                   Taussig, Mr. Emil                                                                   2               0\n",
       "                   Taussig, Mrs. Emil (Tillie Mandelbaum)                                              2               1\n",
       "110813             Warren, Mrs. Frank Manley (Anna Sophia Atkinson)                                    1               1\n",
       "111361             Hippach, Miss. Jean Gertrude                                                        1               1\n",
       "                   Hippach, Mrs. Louis Albert (Ida Sophia Fischer)                                     1               1\n",
       "113505             Bowerman, Miss. Elsie Edith                                                         1               1\n",
       "                   Chibnall, Mrs. (Edith Martha Bowerman)                                              1               1\n",
       "113760             Carter, Master. William Thornton II                                                 3               1\n",
       "                   Carter, Miss. Lucile Polk                                                           3               1\n",
       "                   Carter, Mr. William Ernest                                                          3               1\n",
       "                   Carter, Mrs. William Ernest (Lucile Polk)                                           3               1\n",
       "113776             Pears, Mr. Thomas Clinton                                                           1               0\n",
       "                   Pears, Mrs. Thomas (Edith Wearne)                                                   1               1\n",
       "113781             Allison, Master. Hudson Trevor                                                      3               1\n",
       "                   Allison, Miss. Helen Loraine                                                        3               0\n",
       "                   Allison, Mrs. Hudson J C (Bessie Waldo Daniels)                                     3               0\n",
       "                   Cleaver, Miss. Alice                                                                0               1\n",
       "113789             Holverson, Mr. Alexander Oskar                                                      1               0\n",
       "                   Holverson, Mrs. Alexander Oskar (Mary Aline Towner)                                 1               1\n",
       "113803             Futrelle, Mr. Jacques Heath                                                         1               0\n",
       "                   Futrelle, Mrs. Jacques Heath (Lily May Peel)                                        1               1\n",
       "113806             Chambers, Mr. Norman Campbell                                                       1               1\n",
       "                   Chambers, Mrs. Norman Campbell (Bertha Griggs)                                      1               1\n",
       "11751              Beckwith, Mr. Richard Leonard                                                       2               1\n",
       "                   Beckwith, Mrs. Richard Leonard (Sallie Monypeny)                                    2               1\n",
       "11752              Newsom, Miss. Helen Monypeny                                                        2               1\n",
       "11753              Kimball, Mr. Edwin Nelson Jr                                                        1               1\n",
       "11755              Duff Gordon, Lady. (Lucille Christiana Sutherland) (\"Mrs Morgan\")                   1               1\n",
       "11765              Harder, Mr. George Achilles                                                         1               1\n",
       "                                                                                                                      ..\n",
       "PC 17604           Meyer, Mrs. Edgar Joseph (Leila Saks)                                               1               1\n",
       "PC 17608           Ryerson, Miss. Emily Borie                                                          4               1\n",
       "                   Ryerson, Miss. Susan Parker \"Suzette\"                                               4               1\n",
       "PC 17611           Frauenthal, Dr. Henry William                                                       2               1\n",
       "                   Frauenthal, Mrs. Henry William (Clara Heinsheimer)                                  1               1\n",
       "PC 17755           Cardeza, Mr. Thomas Drake Martinez                                                  1               1\n",
       "                   Lesurer, Mr. Gustave J                                                              0               1\n",
       "                   Ward, Miss. Anna                                                                    0               1\n",
       "PC 17756           Compton, Miss. Sara Rebecca                                                         2               1\n",
       "PC 17757           Astor, Mrs. John Jacob (Madeleine Talmadge Force)                                   1               1\n",
       "                   Bidois, Miss. Rosalie                                                               0               1\n",
       "                   Endres, Miss. Caroline Louise                                                       0               1\n",
       "                   Robbins, Mr. Victor                                                                 0               0\n",
       "PC 17758           Penasco y Castellana, Mr. Victor de Satode                                          1               0\n",
       "                   Penasco y Castellana, Mrs. Victor de Satode (Maria Josefa Perez de Soto y Vallejo)  1               1\n",
       "PC 17759           Greenfield, Mr. William Bertram                                                     1               1\n",
       "PP 9549            Sandstrom, Miss. Marguerite Rut                                                     2               1\n",
       "                   Sandstrom, Mrs. Hjalmar (Agnes Charlotta Bengtsson)                                 2               1\n",
       "S.C./PARIS 2079    Mallet, Master. Andre                                                               2               1\n",
       "                   Mallet, Mr. Albert                                                                  2               0\n",
       "SC/AH 3085         Louch, Mrs. Charles Alexander (Alice Adelaide Slow)                                 1               1\n",
       "SC/PARIS 2149      Duran y More, Miss. Asuncion                                                        1               1\n",
       "SC/Paris 2123      Laroche, Miss. Simonne Marie Anne Andree                                            3               1\n",
       "                   Laroche, Mr. Joseph Philippe Lemercier                                              3               0\n",
       "                   Laroche, Mrs. Joseph (Juliette Marie Louise Lafargue)                               3               1\n",
       "STON/O 2. 3101285  Lindqvist, Mr. Eino William                                                         1               1\n",
       "STON/O2. 3101279   Hakkarainen, Mr. Pekka Pietari                                                      1               0\n",
       "                   Hakkarainen, Mrs. Pekka Pietari (Elin Matilda Dolck)                                1               1\n",
       "WE/P 5735          Crosby, Capt. Edward Gifford                                                        2               0\n",
       "                   Crosby, Miss. Harriet R                                                             2               1\n",
       "Name: Survived_y, Length: 239, dtype: int64"
      ]
     },
     "execution_count": 72,
     "metadata": {},
     "output_type": "execute_result"
    }
   ],
   "source": [
    "#list of passengers grouped  by 'Ticket' and atleast one family member survived \n",
    "Family=family.set_index('Ticket',inplace=False)\n",
    "Family['family_count']=Family['SibSp_y']+Family['Parch_y']\n",
    "Family.groupby(['Ticket','Name','family_count'])['Survived_y'].mean()"
   ]
  },
  {
   "cell_type": "markdown",
   "metadata": {},
   "source": [
    "<b>Note</b>: Here 'family_count' resembles to number of persons from his/her family travelling in the boat .In the last column '1' and '0' resembles passenger survived or not (1= survived,0=not survived) <p>\n",
    "\n",
    "<b>4</b> families have survived ie..the families belong to ticket numbers '113760','111361','113505' and '113806' have survived."
   ]
  },
  {
   "cell_type": "markdown",
   "metadata": {},
   "source": [
    "# CONCLUSION: \n",
    "Since There is no data given regarding the crew members on the ship, it seemed difficult to analyse the crew members survived,more over there are certain limitations in the analysis like 'Age' factor for certain passengers was missing and it was replaced with mean  of 'Age' by Data Wragling .\n",
    "\n",
    "> I hope all the questions posed met their respective solutions by analysis mentioned above.\n",
    "\n",
    "> A breif analysis of given data and answers for the posed questions are mentioned below\n",
    "\n",
    "1.Among 891 passengers only 342 have survived.\n",
    "\n",
    "2.The Survival count of FEMALES is grater than MALES.\n",
    "\n",
    "3.CLASS-1 has more survivals.\n",
    "\n",
    "4.PORT-S has the higest number of passengers boarded and Survivals too.\n",
    "\n",
    "5.passsengers belongs to Age group 20-30 survived more.\n",
    "\n",
    "6.163 single passengers survived.\n",
    "\n",
    "7.Among survivals 179 passengers have families and atleast one of their family members survived.\n",
    "\n",
    "8.check <ins>3.1</ins> to know about the missing family member who didn't survive along with survived family member of the same family.\n",
    "\n",
    "9.FOUR Families survived the disaster."
   ]
  }
 ],
 "metadata": {
  "kernelspec": {
   "display_name": "Python 2",
   "language": "python",
   "name": "python2"
  },
  "language_info": {
   "codemirror_mode": {
    "name": "ipython",
    "version": 2
   },
   "file_extension": ".py",
   "mimetype": "text/x-python",
   "name": "python",
   "nbconvert_exporter": "python",
   "pygments_lexer": "ipython2",
   "version": "2.7.13"
  }
 },
 "nbformat": 4,
 "nbformat_minor": 2
}
